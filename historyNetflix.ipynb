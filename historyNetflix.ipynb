{
 "cells": [
  {
   "cell_type": "code",
   "execution_count": 22,
   "id": "85255fd7",
   "metadata": {},
   "outputs": [
    {
     "name": "stdout",
     "output_type": "stream",
     "text": [
      "Enter series name: The Office\n",
      "Enter by weekday or by time of the day: time of the day\n"
     ]
    },
    {
     "data": {
      "image/png": "[encoded data removed]",
      "text/plain": [
       "<Figure size 1440x720 with 1 Axes>"
      ]
     },
     "metadata": {
      "needs_background": "light"
     },
     "output_type": "display_data"
    }
   ],
   "source": [
    "import pandas as pd\n",
    "import matplotlib\n",
    "\n",
    "##acessar 'https://www.netflix.com/account/getmyinfo' e extrair seus dados, unzipa e procure pela pasta\n",
    "##'Content Interaction', copie o arquivo excell 'ViewingActivity.csv' e cole na pasta que Anaconda foi\n",
    "##instalada.\n",
    "\n",
    "#pede o nm ao user\n",
    "nm_serie = input(\"Enter series name: \")\n",
    "\n",
    "##colocando o historico em um dataframe pandas\n",
    "df = pd.read_csv('ViewingActivity.csv')\n",
    "\n",
    "##converter o tempo de string para datetime\n",
    "df['Start Time'] = pd.to_datetime(df['Start Time'], utc=True)\n",
    "\n",
    "##transformar a coluna Start Time no index do dataframe\n",
    "df = df.set_index('Start Time')\n",
    "\n",
    "##formatar a timezone para Brasi/Sao_Paulo\n",
    "df.index = df.index.tz_convert('America/Sao_Paulo')\n",
    "\n",
    "##reseta o index, a Start Time volta a ser uma coluna\n",
    "df = df.reset_index()\n",
    "\n",
    "##converter o tempo de string para timedelta\n",
    "df['Duration'] = pd.to_timedelta(df['Duration'])\n",
    "\n",
    "##cria um dataframe novo com apenas as linhas que contem 'The Office (U.S.)'\n",
    "serie = df[df['Title'].str.contains(nm_serie, regex=False)]\n",
    "\n",
    "##filtrar os trailers \n",
    "serie = serie[(serie['Duration'] > '0 days 00:03:00')]\n",
    "\n",
    "##tempo que assistiu\n",
    "serie['Duration'].sum()\n",
    "\n",
    "##cria novas colunas no novo df para o dia da semana e a hora\n",
    "serie['weekday'] = serie['Start Time'].dt.weekday\n",
    "serie['hour'] = serie['Start Time'].dt.hour\n",
    "\n",
    "%matplotlib inline\n",
    "\n",
    "#pede o tipo de graf ao user\n",
    "graf_type = input(\"Enter by weekday or by time of the day: \")\n",
    "\n",
    "#if clause dependete do tipo de graf\n",
    "if graf_type == 'by weekday' or 'weekday':\n",
    "\n",
    "    ##dias da semana\n",
    "    ##organiza os dias da semana\n",
    "    serie['weekday'] = pd.Categorical(serie['weekday'], categories=\n",
    "        [0,1,2,3,4,5,6],\n",
    "        ordered=True)\n",
    "\n",
    "    ##conta o numero de linhas em cada dia da semana e armazena a variaveis na serie_by_day\n",
    "    serie_by_day = serie['weekday'].value_counts()\n",
    "\n",
    "    ##filtra o index na ordem correta dos dias da semana\n",
    "    serie_by_day = serie_by_day.sort_index()\n",
    "\n",
    "    ##aumenta a fonte\n",
    "    matplotlib.rcParams.update({'font.size': 22})\n",
    "\n",
    "    ##plota o serie_by_day como um graf de barras\n",
    "    serie_by_day.plot(kind='bar', figsize=(20,10), title='Episódios assistidos por dia da semana:')\n",
    "        \n",
    "if graf_type == 'by time of the day' or 'time of the day':\n",
    "\n",
    "    ##horas do dia\n",
    "    ##define a ordem para que os dados sejam plotados na ordem 0-23\n",
    "    serie['hour'] = pd.Categorical(serie['hour'], categories=\n",
    "        [0,1,2,3,4,5,6,7,8,9,10,11,12,13,14,15,16,17,18,19,20,21,22,23],\n",
    "        ordered=True)\n",
    "\n",
    "    ##conta o numero de linhas em cada hora e armazena as variaveis na serie_by_hour\n",
    "    serie_by_hour =serie['hour'].value_counts()\n",
    "\n",
    "    ##organiza o index por ordem categorica 0 - 1 - 2\n",
    "    serie_by_hour = serie_by_hour.sort_index()\n",
    "\n",
    "    ##plota o serie_by_hour como um graf de barras\n",
    "    serie_by_hour.plot(kind='bar', figsize=(20,10), title='Episódios assistidos por hora do dia:')\n"
   ]
  },
  {
   "cell_type": "code",
   "execution_count": null,
   "id": "e9e1b3e0",
   "metadata": {},
   "outputs": [],
   "source": []
  },
  {
   "cell_type": "code",
   "execution_count": null,
   "id": "e008267e",
   "metadata": {},
   "outputs": [],
   "source": []
  },
  {
   "cell_type": "code",
   "execution_count": null,
   "id": "6c91d68c",
   "metadata": {},
   "outputs": [],
   "source": []
  },
  {
   "cell_type": "code",
   "execution_count": null,
   "id": "29ae9663",
   "metadata": {},
   "outputs": [],
   "source": []
  }
 ],
 "metadata": {
  "kernelspec": {
   "display_name": "Python 3 (ipykernel)",
   "language": "python",
   "name": "python3"
  },
  "language_info": {
   "codemirror_mode": {
    "name": "ipython",
    "version": 3
   },
   "file_extension": ".py",
   "mimetype": "text/x-python",
   "name": "python",
   "nbconvert_exporter": "python",
   "pygments_lexer": "ipython3",
   "version": "3.9.7"
  }
 },
 "nbformat": 4,
 "nbformat_minor": 5
}
